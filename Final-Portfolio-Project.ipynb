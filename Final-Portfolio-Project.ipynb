{
 "cells": [
  {
   "cell_type": "markdown",
   "metadata": {},
   "source": [
    "# This is my Final Portfolio Project from the Data Science Path on Codecademy\n",
    "\n",
    " - This Dataset includes the study area includes four wilderness areas located in the Roosevelt National Forest of northern Colorado.\n",
    " - I will predict an integer classification for the forest cover type.\n",
    "\n",
    "### Data <a class=\"anchor\" id=\"Data\"></a>\n",
    "\n",
    "The data for this project was downloaded from Kaggle:\n",
    "\n",
    "[https://www.kaggle.com/c/forest-cover-type-prediction/data](https://www.kaggle.com/c/forest-cover-type-prediction/data)\n",
    "\n",
    "Information regarding the features for the data are located in the `Data Description` section on the website.\n",
    "\n",
    "Some code inspiration(especially functions) for this analysis was sourced from [this notebook](https://www.kaggle.com/sharmasanthosh/exploratory-study-on-feature-selection)."
   ]
  },
  {
   "cell_type": "code",
   "execution_count": null,
   "metadata": {},
   "outputs": [],
   "source": [
    "import pandas as pd\n",
    "\n",
    "#loading the data\n",
    "train_df = pd.read_csv('data/')"
   ]
  }
 ],
 "metadata": {
  "language_info": {
   "name": "python"
  },
  "orig_nbformat": 4
 },
 "nbformat": 4,
 "nbformat_minor": 2
}
